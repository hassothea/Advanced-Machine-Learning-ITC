{
 "cells": [
  {
   "cell_type": "markdown",
   "metadata": {},
   "source": [
    "# **TP2 - Logistic Regression & Regularization**\n",
    "\n",
    "-----\n",
    "<br>\n",
    "\n",
    "<center>Course: Advanced Machine Learning <br>\n",
    "Lecturer: Sothea HAS, PhD\n",
    "</center>\n"
   ]
  },
  {
   "cell_type": "markdown",
   "metadata": {},
   "source": [
    "<div class=\"alert alert-block alert-success\">\n",
    "<b>Objective:</b>  This practical session (TP) is designed to help you apply the concepts and techniques you have learned about Logistic Regression. You will learn to analyze each input variable and its connection to the target which will guide you to a suitable model in predicting the target.\n",
    "\n",
    "- The `notebook` of this `TP` can be downloaded here: [TP2_Logistic_Regression](https://hassothea.github.io/Advanced-Machine-Learning-ITC/TPs/TP2_LogisticReg.html){target=\"_blank\"}.\n",
    "\n",
    "</div>\n",
    "\n",
    "----------"
   ]
  },
  {
   "cell_type": "markdown",
   "metadata": {},
   "source": [
    "## **1. Binary Logistic Regression**\n",
    "\n",
    "Let's us begin by exploring the [Heart Disease Dataset](https://www.kaggle.com/datasets/johnsmith88/heart-disease-dataset)."
   ]
  },
  {
   "cell_type": "code",
   "execution_count": null,
   "metadata": {},
   "outputs": [],
   "source": [
    "import numpy as np\n",
    "import pandas as pd\n",
    "import kagglehub\n",
    "# Download latest version\n",
    "path = kagglehub.dataset_download(\"johnsmith88/heart-disease-dataset\")\n",
    "data = pd.read_csv(path + \"/heart.csv\")\n",
    "data.head(5)"
   ]
  },
  {
   "cell_type": "markdown",
   "metadata": {},
   "source": [
    "**A. General view of the dataset.**\n",
    "\n",
    "- Load the dataset into **jupyter notebook**.\n",
    "- What's the dimension of the dataset? \n",
    "- How many qualitative and quantitative variables are there in this dataset (answer this question carefully! Some qualitative variables may be encoded using numerical values)?\n",
    "- Convert variables into their suitable data type if there are any inconsistent variable types."
   ]
  },
  {
   "cell_type": "code",
   "execution_count": null,
   "metadata": {},
   "outputs": [],
   "source": [
    "import numpy as np\n",
    "import pandas as pd\n",
    "import kagglehub\n",
    "# To do"
   ]
  },
  {
   "cell_type": "markdown",
   "metadata": {},
   "source": [
    "**B. Univariate Analysis.**\n",
    "\n",
    "- Compute summary statistics and visualize the distribution of the **target** and the **inputs** according to their types.\n",
    "- Are there any missing values? Duplicate data? Outliers? \n",
    "- Address or handle the above problems."
   ]
  },
  {
   "cell_type": "code",
   "execution_count": null,
   "metadata": {},
   "outputs": [],
   "source": [
    "# To do"
   ]
  },
  {
   "cell_type": "markdown",
   "metadata": {},
   "source": [
    "**C. Bivariate Analysis.**\n",
    "\n",
    "- Compute [Pearson's correlation matrix](https://en.wikipedia.org/wiki/Pearson_correlation_coefficient){target=\"_blank\"} of quantitative variables. Make some remarks on the correlation matrix.\n",
    "- Compute [Spearman's correlation matrix](https://www.statstutor.ac.uk/resources/uploaded/spearmans.pdf){target=\"_blank\"} of quantitative variables. Make some remarks on this correlation matrix.\n",
    "- Visualize the relationship between each input to the target. "
   ]
  },
  {
   "cell_type": "code",
   "execution_count": null,
   "metadata": {},
   "outputs": [],
   "source": [
    "# To do"
   ]
  },
  {
   "cell_type": "markdown",
   "metadata": {},
   "source": [
    "> **Remark:** You should try to understand the differences between these two types of correlation as they are helpful in guiding you to the correct transformation of inputs for model development. At the end of this step, you should have strong intuition on the most impactful inputs for building the model and how can to handle the inputs before building models."
   ]
  },
  {
   "cell_type": "markdown",
   "metadata": {},
   "source": [
    "**D. Building Logistic Regression Models**\n",
    "\n",
    "- Split the data into $80\\%-20\\%$ training and testing data.\n"
   ]
  },
  {
   "cell_type": "code",
   "execution_count": null,
   "metadata": {},
   "outputs": [],
   "source": [
    "from sklearn.model_selection import train_test_split\n",
    "X_train, X_test, y_train, y_test = train_test_split(data, target, test_size=0.2, stratify=target, random_state=42)"
   ]
  },
  {
   "cell_type": "markdown",
   "metadata": {},
   "source": [
    "\n",
    "- Build a logistic regression model on the training data then compute its performance on the test data using suitable metrics.\n",
    "- Comment your finding.\n",
    "- Try to study logistic regression using polynomial features. Compute its formance on the test data and compare to the previous result.\n",
    "- Apply regularization methods and evaluate their performances on the test data.\n"
   ]
  },
  {
   "cell_type": "code",
   "execution_count": null,
   "metadata": {},
   "outputs": [],
   "source": [
    "# To do"
   ]
  },
  {
   "cell_type": "markdown",
   "metadata": {},
   "source": [
    "**E. Try what you have done on `Spam` dataset.**"
   ]
  },
  {
   "cell_type": "code",
   "execution_count": null,
   "metadata": {},
   "outputs": [],
   "source": [
    "path = \"https://raw.githubusercontent.com/hassothea/MLcourses/main/data/spam.txt\"\n",
    "data = pd.read_csv(path, sep=\" \")\n",
    "data.head(5)"
   ]
  },
  {
   "cell_type": "markdown",
   "metadata": {},
   "source": [
    "## **2. Multiple Logistic Regression**\n",
    "\n",
    "In this section, you will work with `Mnist` dataset. It can be imported using the following codes."
   ]
  },
  {
   "cell_type": "code",
   "execution_count": null,
   "metadata": {},
   "outputs": [],
   "source": [
    "from keras.datasets import mnist\n",
    "\n",
    "(train_images, train_labels), (test_images, test_labels) = mnist.load_data()\n",
    "\n",
    "import matplotlib.pyplot as plt\n",
    "import numpy as np\n",
    "digit = np.random.choice(train_images.shape[0], size=10)\n",
    "_ , axs = plt.subplots(2,5, figsize=(9, 3))\n",
    "for i in range(10):\n",
    "  axs[i//5, i%5].imshow(train_images[digit[i]])\n",
    "  axs[i//5, i%5].axis(\"off\")\n",
    "  axs[i//5, i%5].set_title(f\"True label: {train_labels[digit[i]]}\")\n",
    "plt.tight_layout()\n",
    "plt.show()"
   ]
  },
  {
   "cell_type": "markdown",
   "metadata": {},
   "source": [
    "- Build Multinomial Logistic Regressoin to recognize images of testing digits of this dataset.\n",
    "- Evaluate its performance using suitable matrix and conclude."
   ]
  },
  {
   "cell_type": "code",
   "execution_count": 1,
   "metadata": {},
   "outputs": [],
   "source": [
    "# To do"
   ]
  },
  {
   "cell_type": "markdown",
   "metadata": {},
   "source": [
    "# References\n",
    "\n",
    "$^{\\text{📚}}$ [Chapter 4, *Introduction to Statistical Learning with R*, James et al. (2021).](https://www.sas.upenn.edu/~fdiebold/NoHesitations/BookAdvanced.pdf){target=\"_blank\"}. <br>\n",
    "$^{\\text{📚}}$ [Chapter 2, *The Elements of Statistical Learning*, Hastie et al. (2008).](https://www.sas.upenn.edu/~fdiebold/NoHesitations/BookAdvanced.pdf){target=\"_blank\"}. <br>\n",
    "$^{\\text{📚}}$ [Friedman (1989)](http://www.leg.ufpr.br/~eferreira/CE064/Regularized%20Discriminant%20Analysis.pdf){target=\"_blank\"}. <br>\n",
    "$^{\\text{📚}}$ [Heart Disease Dataset](https://www.kaggle.com/datasets/johnsmith88/heart-disease-dataset){target=\"_blank\"}. <br>\n",
    "$^{\\text{📚}}$ [Different Type of Correlation Metrics Used by Data Scientists, Ashray](https://www.analyticsvidhya.com/blog/2021/09/different-type-of-correlation-metrics-used-by-data-scientist/){target=\"_blank\"}. \n"
   ]
  }
 ],
 "metadata": {
  "kernelspec": {
   "display_name": "Python 3",
   "language": "python",
   "name": "python3"
  },
  "language_info": {
   "codemirror_mode": {
    "name": "ipython",
    "version": 3
   },
   "file_extension": ".py",
   "mimetype": "text/x-python",
   "name": "python",
   "nbconvert_exporter": "python",
   "pygments_lexer": "ipython3",
   "version": "3.12.5"
  }
 },
 "nbformat": 4,
 "nbformat_minor": 2
}
